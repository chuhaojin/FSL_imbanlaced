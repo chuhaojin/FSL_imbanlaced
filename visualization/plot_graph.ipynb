{
 "cells": [
  {
   "cell_type": "code",
   "execution_count": 27,
   "metadata": {},
   "outputs": [
    {
     "name": "stdout",
     "output_type": "stream",
     "text": [
      "[[0.35150567 0.29062808]\n",
      " [1.93493922 4.52920098]\n",
      " [2.0589148  3.70432682]\n",
      " [3.75687702 5.44053047]]\n"
     ]
    },
    {
     "data": {
      "image/png": "[encoded data removed]",
      "text/plain": [
       "<matplotlib.figure.Figure at 0x23ca55bd978>"
      ]
     },
     "metadata": {},
     "output_type": "display_data"
    }
   ],
   "source": [
    "import matplotlib.pyplot as plt                 #加载matplotlib用于数据的可视化\n",
    "import numpy as np\n",
    "\n",
    "\n",
    "def display(data):\n",
    "  '''data should be a list:[array, array...]'''\n",
    "  proto = np.mean(data, axis=1)\n",
    "  temp_x = np.linspace(minimum * 2.5, maximum * 2.5, grain_size)\n",
    "  temp_y = np.zeros(shape=(grain_size)) + 12.5\n",
    "  plt.fill_between(temp_x, temp_y, -temp_y, facecolor=\"yellow\")\n",
    "  for i, martiex in enumerate(data):\n",
    "    plt.scatter(martiex[:, 0],martiex[:, 1],marker='x')\n",
    "    plt.scatter(proto[i][0], proto[i][1], marker=\"o\")\n",
    "  plt.show()\n",
    "  return\n",
    "\n",
    "\n",
    "shot_num = 5\n",
    "minimum = -5\n",
    "maximum = 5\n",
    "grain_size = 100\n",
    "# 设置x，y轴的取值范围\n",
    "plt.figure(figsize=(6, 6))\n",
    "plt.xlim(minimum * 2.5, maximum * 2.5)\n",
    "plt.ylim(minimum * 2.5, maximum * 2.5)\n",
    "\n",
    "means = np.array([[minimum, maximum],\n",
    "          [maximum, maximum],\n",
    "          [minimum, minimum], \n",
    "          [maximum, minimum]])\n",
    "\n",
    "base_cov = np.array([[0.5, 0], [0, 0.5]])\n",
    "\n",
    "covs = np.array([base_cov * i * i for i in range(1, 5)])\n",
    "# print(covs)\n",
    "way_num = len(means)\n",
    "\n",
    "data = np.zeros(shape=(way_num, shot_num, 2))\n",
    "for i in range(way_num):\n",
    "  data[i] = np.random.multivariate_normal(mean=means[i], cov=covs[i], size=(shot_num,))\n",
    "proto = np.mean(data, axis=1)\n",
    "variance = np.var(data, axis=1)\n",
    "print(variance)\n",
    "display(data)"
   ]
  },
  {
   "cell_type": "code",
   "execution_count": 28,
   "metadata": {},
   "outputs": [],
   "source": [
    "grain_size = 400\n",
    "shot_num = 5\n",
    "x = np.linspace(minimum * 2.5, maximum * 2.5, grain_size)\n",
    "y = np.zeros(grain_size) + x\n",
    "dots = np.zeros(shape=(grain_size, grain_size, 3))\n",
    "dots[:, :, 0] = [ np.zeros(grain_size) + num for num in x]\n",
    "dots[:, :, 1] = y"
   ]
  },
  {
   "cell_type": "code",
   "execution_count": 29,
   "metadata": {},
   "outputs": [],
   "source": [
    "data = np.zeros(shape=(way_num, shot_num, 2))\n",
    "for i in range(way_num):\n",
    "  data[i] = np.random.multivariate_normal(mean=means[i], cov=covs[i], size=(shot_num,))\n",
    "proto = np.mean(data, axis=1)\n",
    "\n",
    "distance_array = np.zeros(shape=(grain_size, grain_size, way_num))\n",
    "for i in range(way_num):\n",
    "    distance_array[:, :, i] = np.linalg.norm(dots[:, :, :2] - proto[i], axis=2)\n",
    "    dots[:, :, 2] = np.argmin(distance_array, axis=2)\n",
    "# print(dots[0, 0], proto[0], distance_array[0, 0, 0], np.linalg.norm(dots[0, 0, :2]-proto[0]) )"
   ]
  },
  {
   "cell_type": "code",
   "execution_count": 30,
   "metadata": {},
   "outputs": [
    {
     "name": "stdout",
     "output_type": "stream",
     "text": [
      "(39471, 3)\n",
      "(37668, 3)\n",
      "(41490, 3)\n",
      "(41371, 3)\n"
     ]
    },
    {
     "data": {
      "image/png": "[encoded data removed]",
      "text/plain": [
       "<matplotlib.figure.Figure at 0x23ca39dc438>"
      ]
     },
     "metadata": {},
     "output_type": "display_data"
    }
   ],
   "source": [
    "plt.figure(figsize=(6, 6))\n",
    "plt.xlim(minimum * 2.5, maximum * 2.5)\n",
    "plt.ylim(minimum * 2.5, maximum * 2.5)\n",
    "\n",
    "# color url:https://www.cnblogs.com/qianblue/p/10783261.html\n",
    "fill_colors = [\"#F0f080\", \"#FFDEAD\", \"#ADD8E6\", \"#ffff00\"]\n",
    "dots_list = dots.reshape((grain_size * grain_size, 3))\n",
    "for i in range(way_num):\n",
    "    martiex = np.array([dot for dot in dots_list if dot[2] == i])\n",
    "    print(martiex.shape)\n",
    "    plt.scatter(martiex[:, 0],martiex[:, 1],c=fill_colors[i])\n",
    "for i, martiex in enumerate(data):\n",
    "    plt.scatter(martiex[:, 0],martiex[:, 1],marker='x')\n",
    "    plt.scatter(proto[i][0], proto[i][1], marker=\"o\")\n",
    "plt.show()"
   ]
  },
  {
   "cell_type": "code",
   "execution_count": 31,
   "metadata": {},
   "outputs": [
    {
     "name": "stdout",
     "output_type": "stream",
     "text": [
      "[[0.07513912 0.16489321]\n",
      " [0.2518174  2.18387996]\n",
      " [3.43794475 1.86185155]\n",
      " [3.00525233 3.6398291 ]]\n",
      "[[ 0.04248609  0.03351068]\n",
      " [ 0.02481826 -0.168388  ]\n",
      " [-0.29379448 -0.13618515]\n",
      " [-0.25052523 -0.31398291]]\n",
      "[1.17480421 1.05605245 0.91621641 0.85292693]\n"
     ]
    }
   ],
   "source": [
    "def softmax(x):\n",
    "    exp_x = np.exp(x)\n",
    "    softmax_x = exp_x / np.sum(exp_x, axis=0)\n",
    "    return softmax_x\n",
    "\n",
    "variance = np.var(data, axis=1)\n",
    "print(variance)\n",
    "weight, bias = -0.1, 0.05\n",
    "variance = variance * weight + bias\n",
    "print(variance)\n",
    "softmax_var = softmax(variance)\n",
    "softmax_var = softmax_var * way_num\n",
    "softmax_var = np.mean(softmax_var, axis=1)\n",
    "print(softmax_var)\n",
    "'''\n",
    "temp = dots[0, 0, :2] - proto[0]\n",
    "print(temp, temp * softmax_var[0])\n",
    "'''\n",
    "amend_distance = np.zeros(shape=(grain_size, grain_size, way_num))\n",
    "for i in range(way_num):\n",
    "    amend_distance[:, :, i] = np.linalg.norm((dots[:, :, :2] - proto[i]) * softmax_var[i], axis=2)\n",
    "    dots[:, :, 2] = np.argmin(amend_distance, axis=2)"
   ]
  },
  {
   "cell_type": "code",
   "execution_count": 32,
   "metadata": {},
   "outputs": [
    {
     "name": "stdout",
     "output_type": "stream",
     "text": [
      "(34961, 3)\n",
      "(36321, 3)\n",
      "(43617, 3)\n",
      "(45101, 3)\n"
     ]
    },
    {
     "data": {
      "image/png": "[encoded data removed]",
      "text/plain": [
       "<matplotlib.figure.Figure at 0x23ca2d87e10>"
      ]
     },
     "metadata": {},
     "output_type": "display_data"
    }
   ],
   "source": [
    "plt.figure(figsize=(6, 6))\n",
    "plt.xlim(minimum * 2.5, maximum * 2.5)\n",
    "plt.ylim(minimum * 2.5, maximum * 2.5)\n",
    "\n",
    "# color url:https://www.cnblogs.com/qianblue/p/10783261.html\n",
    "fill_colors = [\"#F0f080\", \"#FFDEAD\", \"#ADD8E6\", \"#ffff00\"]\n",
    "dots_list = dots.reshape((grain_size * grain_size, 3))\n",
    "for i in range(way_num):\n",
    "    martiex = np.array([dot for dot in dots_list if dot[2] == i])\n",
    "    print(martiex.shape)\n",
    "    plt.scatter(martiex[:, 0],martiex[:, 1],c=fill_colors[i])\n",
    "for i, martiex in enumerate(data):\n",
    "    plt.scatter(martiex[:, 0],martiex[:, 1],marker='x')\n",
    "    plt.scatter(proto[i][0], proto[i][1], marker=\"o\")\n",
    "plt.show()"
   ]
  },
  {
   "cell_type": "code",
   "execution_count": null,
   "metadata": {},
   "outputs": [],
   "source": []
  }
 ],
 "metadata": {
  "kernelspec": {
   "display_name": "Python 3",
   "language": "python",
   "name": "python3"
  },
  "language_info": {
   "codemirror_mode": {
    "name": "ipython",
    "version": 3
   },
   "file_extension": ".py",
   "mimetype": "text/x-python",
   "name": "python",
   "nbconvert_exporter": "python",
   "pygments_lexer": "ipython3",
   "version": "3.6.2rc2"
  }
 },
 "nbformat": 4,
 "nbformat_minor": 2
}
